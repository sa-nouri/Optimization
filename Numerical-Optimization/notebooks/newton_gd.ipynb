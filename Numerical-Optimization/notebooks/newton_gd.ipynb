{
  "nbformat": 4,
  "nbformat_minor": 0,
  "metadata": {
    "colab": {
      "provenance": []
    },
    "kernelspec": {
      "name": "python3",
      "display_name": "Python 3"
    },
    "language_info": {
      "name": "python"
    }
  },
  "cells": [
    {
      "cell_type": "code",
      "metadata": {
        "cellView": "form",
        "id": "chadRh0SkM3a"
      },
      "source": [
        "#@title import libraries\n",
        "import numpy as np\n",
        "import numpy.linalg as npla\n",
        "import matplotlib.pyplot as plt\n",
        "\n",
        "from numpy import linalg as LA"
      ],
      "execution_count": null,
      "outputs": []
    },
    {
      "cell_type": "code",
      "metadata": {
        "cellView": "form",
        "id": "Ic4B0yC7lrL_"
      },
      "source": [
        "#@title define functions\n",
        "\n",
        "def f1(x):\n",
        "    return np.exp(x-3) - x/2 - 2\n",
        "\n",
        "def f2(x):\n",
        "    return -0.5 * (1+ (1/(2**x)) ) * np.sin(2*x) \n",
        "\n",
        "def f3(x):\n",
        "     return (1 - x[0])**2+ 100*((x[1]-x[0]**2)**2)"
      ],
      "execution_count": null,
      "outputs": []
    },
    {
      "cell_type": "code",
      "metadata": {
        "cellView": "form",
        "id": "KEeUHK2wlsbI"
      },
      "source": [
        "#@title Gradient of functions\n",
        "\n",
        "def f1_dx(x):\n",
        "    return np.exp(x - 3) - 0.5\n",
        "\n",
        "def f2_dx(x):\n",
        "    df2_1 = 2**(-x) * np.log(2) * 0.5 * np.sin(2*x)\n",
        "    df2_2 = np.cos(2*x)/(2**(x))  + np.cos(2*x)\n",
        "    return df2_1 - df2_2\n",
        "\n",
        "def f3_dx(x):\n",
        "    df1 = -2*(1 - x[0]) - (400*x[0])*(x[1] - (x[0]**2))\n",
        "    df2 = 200*(x[1] - (x[0]**2))\n",
        "    return np.array([df1, df2])"
      ],
      "execution_count": null,
      "outputs": []
    },
    {
      "cell_type": "code",
      "metadata": {
        "cellView": "form",
        "id": "mGdKPSQtm-u1"
      },
      "source": [
        "#@title title Hessian of functions\n",
        "\n",
        "def f1_hessian(x):\n",
        "    return np.exp(x-3)\n",
        "\n",
        "def f2_hessian(x):\n",
        "    hessian_1 = 2**(-x) * np.cos(2*x) * np.log(2) - 2**(-x-1) * (np.log(2)**2) * np.sin(2*x)\n",
        "    hessian_2 = 2**(2*x +1 ) * np.sin(2*x) + 2**(x+1) * np.sin(2*x)\n",
        "    hessian_3 = 2**(x) * np.log(2) * np.cos(2*x)\n",
        "    return hessian_1 + (2**(-2*x) * (hessian_2 + hessian_3))\n",
        "\n",
        "def f3_hessian(x):\n",
        "    d2f_dx2 = 2 - 400*x[1] + 1200 * (x[0]**2)\n",
        "    d2f_dyx = -400*x[0]\n",
        "    d2f_dy2 = 200\n",
        "    return(np.matrix([[d2f_dx2, d2f_dyx], [d2f_dyx, d2f_dy2]]))\n",
        "    "
      ],
      "execution_count": null,
      "outputs": []
    },
    {
      "cell_type": "code",
      "metadata": {
        "cellView": "form",
        "id": "mUG7BtMcqyZO"
      },
      "source": [
        "#@title LINE SEARCH STEP SIZE\n",
        "\n",
        "def backtrack2(x0, f, fdx, t = 1, alpha=0.2, beta=0.8):\n",
        "    while f(x0 - t*fdx(x0)) > f(x0) + alpha * t * np.dot(fdx(x0).T, -1*fdx(x0)):\n",
        "        t *= beta\n",
        "    return t"
      ],
      "execution_count": null,
      "outputs": []
    },
    {
      "cell_type": "code",
      "metadata": {
        "cellView": "form",
        "id": "3MNTEO80tkaB"
      },
      "source": [
        "#@title Steepest Descent\n",
        "\n",
        "def grad(point, max_iter, f, fdx):\n",
        "    iter = 1\n",
        "    points = []\n",
        "    values = []\n",
        "    step_sizes = []\n",
        "    while (np.linalg.norm(fdx(point)) > 0.000001):\n",
        "\n",
        "        t = backtrack2(point, f, fdx)\n",
        "        point = point - np.dot(t, fdx(point))\n",
        "        print(point, f(point), fdx(point), iter)\n",
        "        iter += 1\n",
        "        if iter > max_iter:\n",
        "            break\n",
        "        points.append(point)\n",
        "        values.append(f(point))\n",
        "        step_sizes.append(t)\n",
        "\n",
        "    return points, values, step_sizes\n"
      ],
      "execution_count": null,
      "outputs": []
    },
    {
      "cell_type": "code",
      "metadata": {
        "id": "JcBwEPAqvdKL",
        "cellView": "form"
      },
      "source": [
        "#@title Newton's Method\n",
        "\n",
        "def lambda_sq(fdx, Hessian, point):\n",
        "    val_hessian = Hessian(point)\n",
        "    if val_hessian.ndim < 2:\n",
        "        lambda_sq = fdx(point) * val_hessian * fdx(point)\n",
        "    else:\n",
        "        lambda_sq = np.dot(np.dot(fdx(point), npla.pinv(val_hessian)), fdx(point).T)\n",
        "    return (np.asscalar(lambda_sq))\n",
        "\n",
        "def delta_x(fdx, Hessian, point):\n",
        "    val_hessian = Hessian(point)\n",
        "    if val_hessian.ndim < 2:\n",
        "        delta_x = val_hessian * fdx(point)\n",
        "    else:\n",
        "        delta_x = np.dot(-npla.pinv(Hessian(point)), fdx(point).T)\n",
        "    return (delta_x)\n",
        "\n",
        "def newtons_method(x, f, fdx, Hessian, eps=0.00001, max_iters=20000, is_hessian=False):\n",
        "    iters = 1\n",
        "    points = []\n",
        "    values = []\n",
        "    step_sizes = []\n",
        "    lmb_sq = lambda_sq(fdx, Hessian, x)\n",
        "    # while((lmb_sq/2.0) > eps):\n",
        "    while True:\n",
        "        dlt_x = delta_x(fdx, Hessian, x)\n",
        "        t = backtrack2(x, f, fdx)\n",
        "        value = np.array((x + np.dot(t , dlt_x)))\n",
        "        if is_hessian: \n",
        "            x = value[0]\n",
        "        else:\n",
        "            x = value\n",
        "        lmb_sq = lambda_sq(fdx, Hessian, x)\n",
        "        \n",
        "        iters += 1\n",
        "        \n",
        "        if(iters > max_iters):\n",
        "            break\n",
        "        points.append(x)\n",
        "        values.append(f(x))\n",
        "        step_sizes.append(t)\n",
        "    return points, values, step_sizes"
      ],
      "execution_count": null,
      "outputs": []
    },
    {
      "cell_type": "code",
      "metadata": {
        "id": "K6--Z7blxULY",
        "cellView": "form"
      },
      "source": [
        "#@title simulation\n",
        "\n",
        "point = [2.0, 2.0]\n",
        "x = 4\n",
        "# points, values, step_sizes = grad(point, max_iter=20000, f=f3, fdx=f3_dx)\n",
        "points, values, step_sizes = newtons_method(x, f1, f1_dx, f1_hessian, eps=0.00001,\n",
        "                                            max_iters=20000, is_hessian=False)\n"
      ],
      "execution_count": null,
      "outputs": []
    },
    {
      "cell_type": "code",
      "metadata": {
        "id": "do1mXdP8WSCd",
        "cellView": "form"
      },
      "source": [
        "#@title simple newton method\n",
        "\n",
        "def f(x):\n",
        "    return -0.5 * (1+ (1/(2**x)) ) * np.sin(2*x) \n",
        "\n",
        "def f_grad(x):\n",
        "    df2_1 = 2**(-x) * np.log(2) * 0.5 * np.sin(2*x)\n",
        "    df2_2 = np.cos(2*x)/(2**(x))  + np.cos(2*x)\n",
        "    return df2_1 - df2_2\n",
        "\n",
        "def f_grad_2(x):\n",
        "    hessian_1 = 2**(-x) * np.cos(2*x) * np.log(2) - 2**(-x-1) * (np.log(2)**2) * np.sin(2*x)\n",
        "    hessian_2 = 2**(2*x +1 ) * np.sin(2*x) + 2**(x+1) * np.sin(2*x)\n",
        "    hessian_3 = 2**(x) * np.log(2) * np.cos(2*x)\n",
        "    return hessian_1 + (2**(-2*x) * (hessian_2 + hessian_3))\n",
        "\n",
        "\n",
        "def BacktrackingLineSearch(x0):\n",
        "    alpha = 1\n",
        "    x = x0\n",
        "    rho = 0.8\n",
        "    c = 1e-4\n",
        "\n",
        "    while f( x + alpha * (-f_grad(x)) ) > f(x) + c * alpha * f_grad(x) * (-f_grad(x)) :\n",
        "        alpha *= rho\n",
        "\n",
        "    return alpha\n",
        "\n",
        "def NewtonMethod():\n",
        "    x0 = 0\n",
        "    curve_y = [f(x0)]\n",
        "    curve_x = [x0]\n",
        "\n",
        "    step_sizes = []\n",
        "\n",
        "    lambda_squre = 1\n",
        "    error = 1e-4\n",
        "    while lambda_squre/2 > error:\n",
        "        stepSize = BacktrackingLineSearch(x0)\n",
        "\n",
        "        xnt=- (1/f_grad_2(x0))*(f_grad(x0))\n",
        "        x0 = x0 + stepSize * xnt\n",
        "\n",
        "        y1 = f(x0)\n",
        "        lambda_squre=(f_grad(x0)) * (1/(f_grad_2(x0))) * (f_grad(x0))\n",
        "\n",
        "        curve_x.append(x0)\n",
        "        curve_y.append(y1)\n",
        "        step_sizes.append(stepSize)\n",
        "    return curve_x, curve_y, step_sizes\n",
        "\n",
        "if __name__ == \"__main__\":\n",
        "    curve_x, curve_y, step_sizes = NewtonMethod()"
      ],
      "execution_count": null,
      "outputs": []
    },
    {
      "cell_type": "code",
      "metadata": {
        "id": "fGuo90qF_Z6V",
        "cellView": "form"
      },
      "source": [
        "#@title Plot function values\n",
        "\n",
        "# values = curve_y\n",
        "plt.plot(values, '-r')\n",
        "# plt.ylabel('Function Values')\n",
        "plt.xlabel('Iterations')\n",
        "plt.grid()\n",
        "plt.title(\"Function Values\")"
      ],
      "execution_count": null,
      "outputs": []
    },
    {
      "cell_type": "code",
      "metadata": {
        "id": "1h8QdB1CLE3c"
      },
      "source": [
        "#@title plot distance to distance to optimal point\n",
        "\n",
        "points = curve_x\n",
        "points = points - points[-1]\n",
        "# dist = LA.norm(points, axis=1)\n",
        "plt.figure()\n",
        "plt.plot(dist, '*b')\n",
        "# plt.ylabel('distnace')\n",
        "plt.xlabel('Iterations')\n",
        "plt.grid()\n",
        "plt.title(\"Distance to optimal point\")\n",
        "# plt.ylim(0, 2)"
      ],
      "execution_count": null,
      "outputs": []
    },
    {
      "cell_type": "code",
      "metadata": {
        "id": "o-0aZ4xED6Do",
        "cellView": "form"
      },
      "source": [
        "#@title plot distance to step sizes\n",
        "\n",
        "plt.figure()\n",
        "plt.plot(step_sizes, 'og')\n",
        "# plt.ylabel('distnace')\n",
        "plt.xlabel('Iterations')\n",
        "plt.grid()\n",
        "plt.title(\"Step size\")\n",
        "# plt.ylim(0, 2)"
      ],
      "execution_count": null,
      "outputs": []
    }
  ]
}