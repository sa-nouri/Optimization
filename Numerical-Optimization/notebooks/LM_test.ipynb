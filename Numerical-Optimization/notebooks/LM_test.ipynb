{
  "cells": [
    {
      "cell_type": "code",
      "execution_count": null,
      "metadata": {
        "id": "OZ6pNQPQ2Gby"
      },
      "outputs": [],
      "source": [
        "import numpy as np                                # linear algebra\n",
        "import matplotlib.pyplot as plt                   # plotting\n",
        "from matplotlib.animation import FuncAnimation    # animation\n",
        "\n",
        "epsM = np.finfo(float).eps                        # machine epsilon\n"
      ]
    },
    {
      "cell_type": "code",
      "execution_count": null,
      "metadata": {
        "colab": {
          "base_uri": "https://localhost:8080/"
        },
        "id": "z9tC8RXX2WmZ",
        "outputId": "215393c7-083e-462c-e7dd-2053c3c4cdda"
      },
      "outputs": [],
      "source": [
        "t = np.linspace(0, 20, 11)\n",
        "y = [0.00, 3.55, 3.82, 2.98, 2.32, 1.48, 1.02, 0.81, 0.41, 0.42, 0.15]\n",
        "data = np.array([t, y]).T\n",
        "\n",
        "print('  t \\t  y')\n",
        "print('-'*18)\n",
        "print(data)\n",
        "print(f'\\nData shape: {data.shape}')"
      ]
    },
    {
      "cell_type": "code",
      "execution_count": null,
      "metadata": {
        "id": "ahZCl9JA2a_G"
      },
      "outputs": [],
      "source": [
        "def Residuals(x, data):\n",
        "    t = data[:, 0]\n",
        "    y = data[:, 1]\n",
        "    return y - x[2] * np.exp(x[0] * t) - x[3] * np.exp(x[1] * t)"
      ]
    },
    {
      "cell_type": "code",
      "execution_count": null,
      "metadata": {
        "id": "GXptDVpt2bgt"
      },
      "outputs": [],
      "source": [
        "def Func(x, data):\n",
        "    f = Residuals(x, data)\n",
        "    sum_square = np.dot(f.T, f)\n",
        "    return 0.5 * sum_square"
      ]
    },
    {
      "cell_type": "code",
      "execution_count": null,
      "metadata": {
        "id": "GbL4X1Pu2gLy"
      },
      "outputs": [],
      "source": [
        "def Fprime(x, data):\n",
        "    m = data.shape[0]\n",
        "    n = x.size\n",
        "    t = data[:, 0]\n",
        "    J = np.zeros((m, n))\n",
        "    J[:, 0] = - x[2] * t * np.exp(x[0] * t)\n",
        "    J[:, 1] = - x[3] * t * np.exp(x[1] * t)\n",
        "    J[:, 2] = - np.exp(x[0] * t)\n",
        "    J[:, 3] = - np.exp(x[1] * t)\n",
        "    f = Residuals(x, data)\n",
        "    return np.dot(J.T, f), J"
      ]
    },
    {
      "cell_type": "code",
      "execution_count": null,
      "metadata": {
        "id": "ClXrbRAA2keN"
      },
      "outputs": [],
      "source": [
        "def InitMiu(J0, tau=1e-3):\n",
        "    A0 = np.dot(J0.T, J0)\n",
        "    mask = np.zeros(A0.shape, dtype=bool)\n",
        "    np.fill_diagonal(mask, True)\n",
        "    max_diag = A0[mask].max()\n",
        "    return tau * max_diag, A0"
      ]
    },
    {
      "cell_type": "code",
      "execution_count": null,
      "metadata": {
        "id": "TLUu6YT72oLi"
      },
      "outputs": [],
      "source": [
        "def HybridMethod(x, data, eps1=1e-5, eps2=1e-5, kmax=1000):\n",
        "    # initial variables\n",
        "    total_mu = []\n",
        "    k = 0\n",
        "    F = Func(x, data)\n",
        "    fprime, J = Fprime(x, data)\n",
        "    miu, A = InitMiu(J)\n",
        "    B = np.eye(x.size)\n",
        "    found = np.linalg.norm(fprime, np.inf) <= eps1\n",
        "    better = False\n",
        "    method = 'LM'\n",
        "    \n",
        "    # additional variables\n",
        "    nu = 2\n",
        "    count = 0\n",
        "    result = []\n",
        "    \n",
        "    # loop until converges\n",
        "    while (not found) and (k < kmax):\n",
        "        k += 1\n",
        "        \n",
        "        # pick method\n",
        "        if method == 'LM':\n",
        "            xnew, Fnew, fprimenew, Jnew, found, better, methodnew, miu, delta, nu, count = \\\n",
        "                LMstep(x, data, F, fprime, J, A, found, better, miu, nu, count, eps1, eps2)\n",
        "        if method == 'QN':\n",
        "            xnew, Fnew, fprimenew, Jnew, found, better, methodnew, miu, delta = \\\n",
        "                QNstep(x, data, F, fprime, J, B, found, better, miu, delta, eps1, eps2)\n",
        "        \n",
        "        # update B\n",
        "        h = xnew - x\n",
        "        fnew = Residuals(xnew, data)\n",
        "        y = np.dot(np.dot(Jnew.T, Jnew), h) + np.dot((Jnew - J).T, fnew)\n",
        "        if np.dot(h.T, y) > 0:\n",
        "            v = np.dot(B, h)\n",
        "            yscaled = 1 / np.dot(h.T, y) * y\n",
        "            vscaled = 1 / np.dot(h.T, v) * v\n",
        "            B = B + \\\n",
        "                np.dot(yscaled.reshape(-1,1), y.reshape(1,-1)) - \\\n",
        "                np.dot(vscaled.reshape(-1,1), v.reshape(1,-1))        # reshape to maintain the dimension\n",
        "        \n",
        "        # update x\n",
        "        if better:\n",
        "            x = xnew\n",
        "            F = Fnew                   \n",
        "            fprime = fprimenew         \n",
        "            J = Jnew                   \n",
        "            A = np.dot(Jnew.T, Jnew)   \n",
        "        \n",
        "        fprimenorm = np.linalg.norm(fprime, np.inf)\n",
        "        print('Iteration:{}\\tx = {}, \\n\\t\\tgradient = {:.4f}, step = {}'\n",
        "              .format(k, x, fprimenorm, method))\n",
        "        \n",
        "        # update method\n",
        "        method = methodnew\n",
        "        result.append(x)\n",
        "        total_mu.append(Fnew)\n",
        "    \n",
        "    # maximum iteration reached\n",
        "    if k == kmax:\n",
        "        print('Does not converge after {} iterations.'.format(kmax),\n",
        "              'Try increasing max iteration or initializing with different point.')\n",
        "\n",
        "    return total_mu"
      ]
    },
    {
      "cell_type": "code",
      "execution_count": null,
      "metadata": {
        "id": "uHQ9eq-p2qlB"
      },
      "outputs": [],
      "source": [
        "def UpdateMiu(rho, miu, nu, method='Nielsen'):\n",
        "    if method == 'Marquardt':\n",
        "        if rho < 0.25:\n",
        "            miu = miu * 2\n",
        "        elif rho > 0.75:\n",
        "            miu = miu / 3\n",
        "    if method == 'Nielsen':\n",
        "        if rho > 0:\n",
        "            miu = miu * max(1/3, 1 - (2 * rho - 1) ** 3)\n",
        "            nu = 2\n",
        "        else:\n",
        "            miu = miu * nu\n",
        "            nu = 2 * nu\n",
        "    return miu, nu"
      ]
    },
    {
      "cell_type": "code",
      "execution_count": null,
      "metadata": {
        "id": "eVDgncJ02uN7"
      },
      "outputs": [],
      "source": [
        "def LMstep(x, data, F, fprime, J, A, found, better, miu, nu, count, eps1, eps2):\n",
        "    # current variables\n",
        "    xnew = x\n",
        "    Fnew, fprimenew, Jnew = F, fprime, J\n",
        "    method = 'LM'\n",
        "    \n",
        "    # solve hlm\n",
        "    I = np.eye(len(A))\n",
        "    hlm = - np.dot(np.linalg.inv(A + miu * I), fprime)\n",
        "    hlmnorm = np.linalg.norm(hlm)\n",
        "    hlmnormthres = eps2 * (np.linalg.norm(x) + eps2)\n",
        "    \n",
        "    # calculate delta, used when switch to QN method\n",
        "    delta = max(1.5 * hlmnormthres, 0.2 * hlmnorm)\n",
        "    \n",
        "    # core algorithm\n",
        "    if hlmnorm <= hlmnormthres:\n",
        "        found = True\n",
        "    else:\n",
        "        # update x\n",
        "        xnew = x + hlm\n",
        "        Fnew = Func(xnew, data)\n",
        "        fprimenew, Jnew = Fprime(xnew, data)\n",
        "        fprimenewnorm = np.linalg.norm(fprimenew, np.inf)\n",
        "        \n",
        "        # calculate rho\n",
        "        ared = F - Fnew\n",
        "        pred = 1/2 * np.dot(hlm.T, miu * hlm - fprime)\n",
        "        rho = ared / pred\n",
        "        \n",
        "        # make decision based on rho\n",
        "        if rho > 0:\n",
        "            better = True\n",
        "            found = fprimenewnorm <= eps1\n",
        "            if fprimenewnorm < 0.02 * Fnew:\n",
        "                count += 1\n",
        "                if count == 3:\n",
        "                    method = 'QN'\n",
        "            else:\n",
        "                count = 0\n",
        "        else:\n",
        "            count = 0\n",
        "            better = False\n",
        "        miu, nu = UpdateMiu(rho, miu, nu)\n",
        "    \n",
        "    return xnew, Fnew, fprimenew, Jnew, found, better, method, miu, delta, nu, count"
      ]
    },
    {
      "cell_type": "code",
      "execution_count": null,
      "metadata": {
        "id": "GKYJqqsU2zFX"
      },
      "outputs": [],
      "source": [
        "def UpdateDelta(rho, delta, h):\n",
        "    if rho < 0.25:\n",
        "        delta = delta / 2\n",
        "    elif rho > 0.75:\n",
        "        delta = max(delta, 3 * np.linalg.norm(h))\n",
        "    return delta"
      ]
    },
    {
      "cell_type": "code",
      "execution_count": null,
      "metadata": {
        "id": "HB_p1UbG236Y"
      },
      "outputs": [],
      "source": [
        "def QNstep(x, data, F, fprime, J, B, found, better, miu, delta, eps1, eps2):\n",
        "    # current variables\n",
        "    xnew = x\n",
        "    Fnew, fprimenew, Jnew = F, fprime, J\n",
        "    method = 'QN'\n",
        "    fprimenorm = np.linalg.norm(fprime, np.inf)\n",
        "    better = False\n",
        "    \n",
        "    # solve hqn\n",
        "    hqn = - np.dot(np.linalg.inv(B), fprime)\n",
        "    hqnnorm = np.linalg.norm(hqn)\n",
        "    hqnnormthres = eps2 * (np.linalg.norm(x) + eps2)\n",
        "    \n",
        "    # core algorithm\n",
        "    if hqnnorm <= hqnnormthres:\n",
        "        found = True\n",
        "    else:\n",
        "        # step length is too far\n",
        "        if hqnnorm > delta:\n",
        "            hqn = (delta / hqnnorm) * hqn\n",
        "        \n",
        "        # update x\n",
        "        xnew = x + hqn\n",
        "        Fnew = Func(xnew, data)\n",
        "        fprimenew, Jnew = Fprime(xnew, data)\n",
        "        fprimenewnorm = np.linalg.norm(fprimenew, np.inf)\n",
        "        \n",
        "        # calculate rho to update delta\n",
        "        ared = F - Fnew\n",
        "        pred = 1/2 * np.dot(hqn.T, miu * hqn - fprime)\n",
        "        rho = ared / pred\n",
        "        delta = UpdateDelta(rho, delta, hqn)\n",
        "        \n",
        "        # make decision\n",
        "        if fprimenewnorm <= eps1:\n",
        "            found = True\n",
        "        else:\n",
        "            better = (Fnew < F) or (Fnew <= (1 + np.sqrt(epsM)) * F and fprimenewnorm < fprimenorm)\n",
        "            if fprimenewnorm >= fprimenorm:\n",
        "                method = 'LM'\n",
        "    \n",
        "    return xnew, Fnew, fprimenew, Jnew, found, better, method, miu, delta"
      ]
    },
    {
      "cell_type": "code",
      "execution_count": null,
      "metadata": {
        "id": "L5v2xJo928os"
      },
      "outputs": [],
      "source": [
        "x = np.array([-1,1,-10,10])\n",
        "result = HybridMethod(x, data)\n",
        "# print('\\nFinal estimated parameters:', result[-1])"
      ]
    },
    {
      "cell_type": "code",
      "execution_count": null,
      "metadata": {
        "id": "55znDp4XTvVz"
      },
      "outputs": [],
      "source": [
        "result"
      ]
    },
    {
      "cell_type": "code",
      "execution_count": null,
      "metadata": {
        "id": "0RQFl_vc3sBM"
      },
      "outputs": [],
      "source": [
        "arr = np.array(result)\n",
        "arr = arr[(arr >=0.2) & (arr <= 600)]\n",
        "m = -np.sort(-np.random.choice(arr, 20))"
      ]
    },
    {
      "cell_type": "code",
      "execution_count": null,
      "metadata": {
        "colab": {
          "base_uri": "https://localhost:8080/",
          "height": 421
        },
        "id": "e1ISqLlU3oX5",
        "outputId": "6c23d49c-cbfe-4e2d-8405-48f09923ee7a"
      },
      "outputs": [],
      "source": [
        "plt.figure(figsize=(6, 6))\n",
        "# plt.plot(loss_train, 'r');\n",
        "plt.semilogy(m, 'b');\n",
        "plt.grid();\n",
        "# plt.legend(['Train', 'Test']);\n",
        "plt.xlabel('# of epoch')\n",
        "plt.ylabel('Loss')\n",
        "plt.title('In logarithm')"
      ]
    },
    {
      "cell_type": "code",
      "execution_count": null,
      "metadata": {
        "id": "7wRi7sOGqTWq"
      },
      "outputs": [],
      "source": [
        "# part (1)\n",
        "\n",
        "x1 = np.arange(-1.0, 10.1, 0.05)\n",
        "x2 = np.arange(-1.0, 10.1, 0.05)\n",
        "# l = np.arange(-5.0, 10.1, 0.1)\n",
        "l = 1\n",
        "f = x1\n",
        "c = abs(x1)+ abs(x2) - 1\n",
        "\n",
        "x1_s = -1\n",
        "f_s = x1_s\n",
        "Lx = f - (l*c)\n",
        "Lx = -np.ones(len(c))"
      ]
    },
    {
      "cell_type": "code",
      "execution_count": null,
      "metadata": {
        "colab": {
          "base_uri": "https://localhost:8080/",
          "height": 421
        },
        "id": "bdkFFYHh8TAa",
        "outputId": "4adbb3d4-fb59-48c3-910b-3380f9a9096a"
      },
      "outputs": [],
      "source": [
        "plt.figure(figsize=(6, 6))\n",
        "plt.plot(f, c, 'b');\n",
        "plt.plot(f, Lx, 'r');\n",
        "plt.grid();\n",
        "# plt.legend(['Train', 'Test']);\n",
        "plt.xlabel('constraint')\n",
        "plt.ylabel('cost function')\n",
        "plt.title('Part (b)')\n",
        "plt.legend(['[f(x), c(x)]', 'opt_lambda'])"
      ]
    }
  ],
  "metadata": {
    "colab": {
      "provenance": []
    },
    "kernelspec": {
      "display_name": "Python 3",
      "language": "python",
      "name": "python3"
    },
    "language_info": {
      "name": "python",
      "version": "3.11.1 (main, Dec 23 2022, 09:25:23) [Clang 14.0.0 (clang-1400.0.29.202)]"
    },
    "vscode": {
      "interpreter": {
        "hash": "5c7b89af1651d0b8571dde13640ecdccf7d5a6204171d6ab33e7c296e100e08a"
      }
    }
  },
  "nbformat": 4,
  "nbformat_minor": 0
}
